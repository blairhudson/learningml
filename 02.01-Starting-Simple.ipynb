{
 "cells": [
  {
   "cell_type": "markdown",
   "metadata": {},
   "source": [
    "[[Table of Contents](00.00-Learning-ML.ipynb#Table-of-Contents)] [[Previous: *Classification*](02.00-Classification.ipynb)] [[Next: *Starting Simple*](02.01-Starting-Simple.ipynb)]\n",
    "\n",
    "# 02.01 - Starting Simple\n",
    "\n",
    "To really understand how classifiers work, we're going to start with two very basic models. Technically these aren't machine learning models, but they do provide a good baseline for performance. As you will see, they also demonstrate the importance of understanding various performance measures and using them to evaluate model performance. If you've ever witnessed someone 'wow' an audience by describing a predictive model with an impressively high *accuracy* (such as 95%), you will see why this may not be as impressive as it sounds. (Accuracy has a special definition when we are talking about classification.)\n",
    "\n",
    "## Mode"
   ]
  },
  {
   "cell_type": "code",
   "execution_count": null,
   "metadata": {
    "collapsed": true
   },
   "outputs": [],
   "source": []
  },
  {
   "cell_type": "markdown",
   "metadata": {},
   "source": [
    "## Random"
   ]
  }
 ],
 "metadata": {
  "anaconda-cloud": {},
  "kernelspec": {
   "display_name": "Python [default]",
   "language": "python",
   "name": "python3"
  },
  "language_info": {
   "codemirror_mode": {
    "name": "ipython",
    "version": 3
   },
   "file_extension": ".py",
   "mimetype": "text/x-python",
   "name": "python",
   "nbconvert_exporter": "python",
   "pygments_lexer": "ipython3",
   "version": "3.5.2"
  }
 },
 "nbformat": 4,
 "nbformat_minor": 1
}
