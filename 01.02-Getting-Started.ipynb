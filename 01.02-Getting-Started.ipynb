{
 "cells": [
  {
   "cell_type": "markdown",
   "metadata": {},
   "source": [
    "[Table of Contents](00.00-Learning-ML.ipynb#Table-of-Contents) &bull; [&larr; *Chapter 1.01 - Help*](01.01-Help.ipynb) &bull; [*Chapter 2 - Classification* &rarr;](02.00-Classification.ipynb)\n",
    "\n",
    "---\n",
    "\n",
    "# Chapter 1.02 - Getting Started\n",
    "\n",
    "Machine Learning is well supported on all major operating systems, thanks to analytical (...) such Anaconda. Anaconda is an open data science platform that pre-packages many of the required components for data science (and everything for this book!) and can be installed on Windows, OS X and Linux.\n",
    "\n",
    "In fact, this entire book is written using components from Anaconda, including Python and R and their machine learning packages, as well as the super helpful Jupyter Notebook which allows for structured and repeatable machine learning.\n",
    "\n",
    "## Installation\n",
    "\n",
    "To install Anaconda, follow the instructions for your operating system below:\n",
    "\n",
    "* Download and install Anaconda 4.3.0 64-bit from here: [Windows](https://repo.continuum.io/archive/Anaconda3-4.3.0.1-Windows-x86_64.exe), [OS X](https://repo.continuum.io/archive/Anaconda3-4.3.0-MacOSX-x86_64.pkg), [Linux](https://repo.continuum.io/archive/Anaconda3-4.3.0-Linux-x86_64.sh)\n",
    "* Update scikit-learn to version 0.18.1: `conda install -c anaconda scikit-learn=0.18.1`\n",
    "* Install Keras (and TensorFlow): `pip install keras==2.0.0`\n",
    "* Spark and launch Jupyter:\n",
    "\n",
    "```\n",
    "sudo gem update --system\n",
    "brew install apache-spark\n",
    "\n",
    "export SPARK_HOME=\"/usr/local/Cellar/apache-spark/2.1.0/libexec/\"\n",
    "export PATH=$PATH:$SPARK_HOME/bin\n",
    "export PYSPARK_SUBMIT_ARGS=\"--master local[2]\"\n",
    "export PYTHONPATH=$SPARK_HOME/python/:$PYTHONPATH\n",
    "export PYTHONPATH=$SPARK_HOME/python/lib/py4j-0.9-src.zip:$PYTHONPATH\n",
    "export PYSPARK_DRIVER_PYTHON=jupyter\n",
    "export PYSPARK_DRIVER_PYTHON_OPTS='notebook'\n",
    "\n",
    "pyspark\n",
    "```\n",
    "\n",
    "## Running Jupyter\n",
    "\n",
    "If you've downloaded a copy of this book as Jupyter notebooks, you can run Jupyter `jupyter notebook`. This will open a new browser window with the Jupyter file browser, and you can select the directory containing your notebooks from there.\n",
    "\n",
    "---\n",
    "\n",
    "[Table of Contents](00.00-Learning-ML.ipynb#Table-of-Contents) &bull; [&larr; *Chapter 1.01 - Help*](01.01-Help.ipynb) &bull; [*Chapter 2 - Classification* &rarr;](02.00-Classification.ipynb)"
   ]
  },
  {
   "cell_type": "code",
   "execution_count": null,
   "metadata": {
    "collapsed": true
   },
   "outputs": [],
   "source": []
  }
 ],
 "metadata": {
  "anaconda-cloud": {},
  "kernelspec": {
   "display_name": "Python [default]",
   "language": "python",
   "name": "python3"
  },
  "language_info": {
   "codemirror_mode": {
    "name": "ipython",
    "version": 3
   },
   "file_extension": ".py",
   "mimetype": "text/x-python",
   "name": "python",
   "nbconvert_exporter": "python",
   "pygments_lexer": "ipython3",
   "version": "3.5.2"
  }
 },
 "nbformat": 4,
 "nbformat_minor": 1
}
