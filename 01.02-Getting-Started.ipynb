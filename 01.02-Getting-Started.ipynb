{
 "cells": [
  {
   "cell_type": "markdown",
   "metadata": {},
   "source": [
    "[Table of Contents](00.00-Learning-ML.ipynb#Table-of-Contents) &bull; [&larr; *Chapter 1.01 - WTF*](01.01-WTF.ipynb) &bull; [*Chapter 2 - Classification* &rarr;](02.00-Classification.ipynb)\n",
    "\n",
    "---\n",
    "\n",
    "# Chapter 1.02 - Getting Started\n",
    "\n",
    "Machine Learning is well supported on all major operating systems, thanks to analytical (...) such Anaconda. Anaconda is a (...) and can be installed on Windows, macOS and Linux variants.\n",
    "\n",
    "In fact, this entire book is written using components from Anaconda, including Python and R and their machine learning packages, as well as the super helpful Jupyter Notebook which allows for structured and repeatable machine learning.\n",
    "\n",
    "## Installation\n",
    "\n",
    "To install Anaconda, follow the instructions for your operating system below.\n",
    "\n",
    "### Windows\n",
    "\n",
    "(...)\n",
    "\n",
    "### macOS\n",
    "\n",
    "(...)\n",
    "\n",
    "### (...Named Linux variants...)\n",
    "\n",
    "(...)\n",
    "\n",
    "---\n",
    "\n",
    "[Table of Contents](00.00-Learning-ML.ipynb#Table-of-Contents) &bull; [&larr; *Chapter 1.01 - WTF*](01.01-WTF.ipynb) &bull; [*Chapter 2 - Classification* &rarr;](02.00-Classification.ipynb)"
   ]
  },
  {
   "cell_type": "code",
   "execution_count": null,
   "metadata": {
    "collapsed": true
   },
   "outputs": [],
   "source": []
  }
 ],
 "metadata": {
  "anaconda-cloud": {},
  "kernelspec": {
   "display_name": "Python [default]",
   "language": "python",
   "name": "python3"
  },
  "language_info": {
   "codemirror_mode": {
    "name": "ipython",
    "version": 3
   },
   "file_extension": ".py",
   "mimetype": "text/x-python",
   "name": "python",
   "nbconvert_exporter": "python",
   "pygments_lexer": "ipython3",
   "version": "3.5.2"
  }
 },
 "nbformat": 4,
 "nbformat_minor": 1
}
