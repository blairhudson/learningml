{
 "cells": [
  {
   "cell_type": "markdown",
   "metadata": {},
   "source": [
    "[Table of Contents](00.00-Learning-ML.ipynb#Table-of-Contents) &bull; [&larr; *Chapter 2.01 - Dummy Classifiers*](02.01-Dummy-Classifiers.ipynb) &bull; [*Chapter 2.03 - k-Nearest Neighbours* &rarr;](02.03-k-Nearest-Neighbours.ipynb)\n",
    "\n",
    "---\n",
    "\n",
    "# Chapter 2.02 - Naive Bayes\n",
    "\n",
    "In statistics, *Bayes theorem* describes the probability of an occurence based on input conditions. The theorem states: the probability of A given B is equal to the probability of B given A multiplied by the probability of A and divided by the probability of B, or notationally:\n",
    "\n",
    "    P(A|B) = P(B|A) * P(A) / P(B)\n",
    "\n",
    "`P()` means *the probability of* and `|` means *given* or \"where\".\n",
    "\n",
    "In other words `P(A|B)` means \"the probability of A occuring when B occurs\".\n",
    "\n",
    "A naive Bayes classifier applies this theorem naively, assuming that features (inputs into) in the model are indepedent of (unrelated to) each other.\n",
    "\n",
    "In the previous chapter, we looked at using class probabilities to build a dummy classifier, and considered an example that 95% of loans do not default. This probability is known as a *prior* probability - it is known without knowing anything about the class inputs.\n",
    "\n",
    "\n",
    "## Proof of Bayes theorem\n",
    "\n",
    "We can prove Bayes theorem by starting with the probability of two events, A and B, occuring together.\n",
    "\n",
    "    P(A and B) = P(A) * P(B|A)\n",
    "    also\n",
    "    P(A and B) = P(B) * P(A|B)\n",
    "\n",
    "Equating the right sides of each equation:\n",
    "\n",
    "    P(B) * P(A|B) = P(A) * P(B|A)\n",
    "\n",
    "Divide both sides by `P(B)`, gives us Bayes theorem:\n",
    "\n",
    "    P(A|B) = P(A) * P(B|A) / P(B)\n",
    "\n",
    "## Binary inputs\n",
    "\n",
    "Let's expand our dummy classifier example with some input:\n",
    "\n",
    "| Employment | Default | Count |\n",
    "|---|---|---|\n",
    "| FT | N | 59 |\n",
    "| FT | Y | 1 |\n",
    "| PT | N | 36 |\n",
    "| PT | Y | 4 |\n",
    "\n",
    "Probability of default given full-time employment:\n",
    "\n",
    "    P(Default=Y|Emp=FT) = P(Default=Y) * P(Emp=FT|Default=Y) / P(Emp=FT)\n",
    "\n",
    "    = 0.05 * 0.2 / 0.6\n",
    "    = 0.0167...\n",
    "\n",
    "Probability of default given part-time employment:\n",
    "\n",
    "    P(Default=Y|Emp=PT) = P(Default=Y) * P(Emp=PT|Default=Y) / P(Emp=PT)\n",
    "\n",
    "    = 0.05 * 0.8 / 0.4\n",
    "    = 0.1\n",
    "\n",
    "Given just one input, for this example we can see that part time employees are almost 6 times more likely to default than their full time counterparts.\n",
    "\n",
    "If we want to predict the class of a given employment type, we calculate the probability of all classes and take the maximum.\n",
    "\n",
    "To extend on the above, if the employment type is FT, we know the probability of default is 0.0167.\n",
    "\n",
    "The probability of not defaulting is:\n",
    "\n",
    "    P(Default=N|Emp=FT) = P(Default=N) * P(Emp=FT|Default=N) / P(Emp=FT)\n",
    "\n",
    "    = 0.95 * (59/95) / 0.6\n",
    "    = 0.983...\n",
    "\n",
    "Since there are only two classes of default (true or false), the probabilities are intuitively inverse! As you can see, a loan to a full time worker is predicted to not default.\n",
    "\n",
    "If we are not interested in the probability and only interested in the predicted class, we can take a shortcut and not calculate the divisor `P(Emp=FT)` for both equations, as it is the same for both - it can only scale the results.\n",
    "\n",
    "## Combining multiple inputs\n",
    "\n",
    "We can expand Bayes theorem with even more inputs and try to improve our classifier! This is where the naive aspect comes into play. For each input, we will assume (naively) that it is unrelated to every other input. Consider the following:\n",
    "\n",
    "| Gender | Employment | Default | Count |\n",
    "|---|---|---|---|\n",
    "| M | FT | N | 30 |\n",
    "| M | FT | Y | 1 |\n",
    "| M | PT | N | 14 |\n",
    "| M | PT | Y | 3 |\n",
    "| F | FT | N | 29 |\n",
    "| F | FT | Y | 0 |\n",
    "| F | PT | N | 22 |\n",
    "| F | PT | Y | 1 |\n",
    "\n",
    "While we won't go through the mathematical proof here, Bayes theorem is generalised for multiple inputs as:\n",
    "\n",
    "    p(class|f1,f2,f3,...) = p(class) * p(f1|class) * p(f2|class) * p(f3|class) ...\n",
    "    \n",
    "Let's predict default for a full-time employed female:\n",
    "\n",
    "    p(default=True|emp=FT,gen=F) = p(default=True) * p(emp=FT|default=True) * p(gen=F|default=True)\n",
    "    = 0.05 * 0.2 * 0.2\n",
    "    = 0.05\n",
    "    \n",
    "    p(default=False|emp=FT,gen=F) = p(default=False) * p(emp=FT|default=False) * p(gen=F|default=False)\n",
    "    = 0.95 * (59/95) * (51/95)\n",
    "    = 0.3167\n",
    "    \n",
    "Now was take the maximum of the two probabilities, and assign the corresponding class as our prediction. That is, for a full-time employed female, we predict no default.\n",
    "\n",
    "### Implementing Bernoulli Naive Bayes\n",
    "\n",
    "`BernoulliNB` requires binary feature inputs, but luckily has a threshold parameter (aptly named `binarize`) to convert continuous inputs into binary inputs at specified threshold. Conveniently we can keep using `make_classification` for this implementation."
   ]
  },
  {
   "cell_type": "code",
   "execution_count": 247,
   "metadata": {
    "collapsed": false
   },
   "outputs": [
    {
     "data": {
      "text/plain": [
       "0.91999999999999993"
      ]
     },
     "execution_count": 247,
     "metadata": {},
     "output_type": "execute_result"
    }
   ],
   "source": [
    "# prepare sample data, similar to previous chapter\n",
    "from sklearn.datasets import make_classification\n",
    "X, y = make_classification(n_samples=100, n_classes=2)\n",
    "\n",
    "# fit Bernoulli naive bayes (features below 0.0 become 0, above become 1)\n",
    "from sklearn.naive_bayes import BernoulliNB\n",
    "modelb = BernoulliNB(binarize=0.0)\n",
    "modelb.fit(X, y)\n",
    "predictions = modelb.predict(X)\n",
    "\n",
    "# calculate AUC, should be much better than our previous dummy classifiers!\n",
    "from sklearn import metrics\n",
    "FPR, TPR, thresholds = metrics.roc_curve(y, predictions)\n",
    "metrics.auc(FPR, TPR)"
   ]
  },
  {
   "cell_type": "markdown",
   "metadata": {},
   "source": [
    "Notice the improvement in AUC (it's now closer to 1).\n",
    "\n",
    "## Multi-valued discrete inputs\n",
    "\n",
    "An input with multiple discrete (categorical) values is called a *multinomial* input. (And if you were wondering, an input with only two values is called a *Bernoulli* or binary input).\n",
    "\n",
    "Let's expand our dummy classifier example with some slightly different input, this time we will have three employment types (full time, part time and casual):\n",
    "\n",
    "| Employment | Default | Count |\n",
    "|---|---|---|\n",
    "| FT | N | 58 |\n",
    "| FT | Y | 1 |\n",
    "| PT | N | 34 |\n",
    "| PT | Y | 3 |\n",
    "| CA | N | 3 |\n",
    "| CA | Y | 1 |\n",
    "\n",
    "Let's revise our calculations and calculate for our new value.\n",
    "\n",
    "Probability of default given full-time employment:\n",
    "\n",
    "    P(Default=Y|Emp=FT) = P(Default=Y) * P(Emp=FT|Default=Y) / P(Emp=FT)\n",
    "\n",
    "    = 0.05 * 0.2 / 0.59\n",
    "    = 0.01695...\n",
    "\n",
    "Probability of default given part-time employment:\n",
    "\n",
    "    P(Default=Y|Emp=PT) = P(Default=Y) * P(Emp=PT|Default=Y) / P(Emp=PT)\n",
    "\n",
    "    = 0.05 * 0.6 / 0.37\n",
    "    = 0.081...\n",
    "    \n",
    "Probability of default given casual employment:\n",
    "\n",
    "    P(Default=Y|Emp=CA) = P(Default=Y) * P(Emp=CA|Default=Y) / P(Emp=CA)\n",
    "\n",
    "    = 0.05 * 0.2 / 0.04\n",
    "    = 0.25\n",
    "    \n",
    "For *multinomial* inputs, it is possible that not every combination of classes and values of a given feature occur in the training data, meaning that `p(feature|class)` would equate to 0 and multiply out the probability of the whole set of features to be 0. This is problematic, and so it is resolved by *smoothing* the result by introducing new information (known as *regularisation*).\n",
    "\n",
    "This is not a problem for *Bernoulli* inputs, as by definition it must have a binary value (0 or 1, True or False), and if one were to not occur in the training data - it would only only have a single value, providing no information for learning.\n",
    "    \n",
    "### Implementing Multinomial Naive Bayes\n",
    "    \n",
    "`MultinomialNB` requires inputs to be discrete, non-negative counts - so unfortunately `make_classification` won't give us suitable inputs directly so we need to perform a quick transformation to integers."
   ]
  },
  {
   "cell_type": "code",
   "execution_count": 248,
   "metadata": {
    "collapsed": false
   },
   "outputs": [
    {
     "data": {
      "text/plain": [
       "0.92897158863545426"
      ]
     },
     "execution_count": 248,
     "metadata": {},
     "output_type": "execute_result"
    }
   ],
   "source": [
    "# prepare sample data, similar to previous chapter\n",
    "from sklearn.datasets import make_classification\n",
    "X, y = make_classification(n_samples=100, n_classes=2, shift=10, scale=10)\n",
    "X = X.astype(int)\n",
    "\n",
    "# fit Multinomial naive Bayes\n",
    "from sklearn.naive_bayes import MultinomialNB\n",
    "modelm = MultinomialNB()\n",
    "modelm.fit(X, y)\n",
    "predictions = modelm.predict(X)\n",
    "\n",
    "# calculate AUC, should be much better than our previous dummy classifiers!\n",
    "from sklearn import metrics\n",
    "FPR, TPR, thresholds = metrics.roc_curve(y, predictions)\n",
    "metrics.auc(FPR, TPR)"
   ]
  },
  {
   "cell_type": "markdown",
   "metadata": {},
   "source": [
    "## Continuous inputs\n",
    "\n",
    "The simplest way to handle (continuous) numerical inputs is to turn them into *Bernoulli* (binary) or *multinomial* (multiple values). Both of these options turns them into discrete values, and so this process is known as *discretisation* or *binning*.\n",
    "\n",
    "For example, the table below discretises 'age' into both Bernoulli and multinomial values:\n",
    "\n",
    "| Age | Over 18 (Bernoulli) | Age Band (Multinomial) |\n",
    "|---|---|---|\n",
    "| 12 | N | 10 to 19 |\n",
    "| 17 | N | 10 to 19 |\n",
    "| 30 | Y | 30 to 39 |\n",
    "| 35 | Y | 30 to 39 |\n",
    "| 43 | Y | 40 to 49 |\n",
    "| 49 | Y | 40 to 49 |\n",
    "\n",
    "There are many different approaches the optimising bins which we will not discuss here. Instead, we will focus on another method that is more robust against discretisation error (the error introduced through binning).\n",
    "\n",
    "Given the rule above, where `p(class|f1,f2,f3...) = p(class) * p(f1|class) * p(f2|class) * p(f3|class)...`, we can substitue our calculation of `p(fn|class)` with a different approach that works for numerical (or *continuous*) inputs.\n",
    "\n",
    "A common method is to apply what is called a *probability density function*, and assume that the numerical inputs are normally distributed (this is called a *Gaussian* distribution). Without going into the maths, to calculate this all we need to find the mean (average) and standard deviation (average difference from the mean) of the continuous values associated with each class.\n",
    "\n",
    "### Implementing Gaussian Naive Bayes\n",
    "\n",
    "Given the above, this should be quite straightforward."
   ]
  },
  {
   "cell_type": "code",
   "execution_count": 249,
   "metadata": {
    "collapsed": false
   },
   "outputs": [
    {
     "data": {
      "text/plain": [
       "0.97999999999999998"
      ]
     },
     "execution_count": 249,
     "metadata": {},
     "output_type": "execute_result"
    }
   ],
   "source": [
    "# prepare sample data, similar to previous chapter\n",
    "from sklearn.datasets import make_classification\n",
    "X, y = make_classification(n_samples=100, n_classes=2)\n",
    "\n",
    "# fit Gaussian naive Bayes\n",
    "from sklearn.naive_bayes import GaussianNB\n",
    "modelg = GaussianNB()\n",
    "modelg.fit(X, y)\n",
    "predictions = modelg.predict(X)\n",
    "\n",
    "# calculate AUC, should be much better than our previous dummy classifiers!\n",
    "from sklearn import metrics\n",
    "FPR, TPR, thresholds = metrics.roc_curve(y, predictions)\n",
    "metrics.auc(FPR, TPR)"
   ]
  },
  {
   "cell_type": "markdown",
   "metadata": {},
   "source": [
    "## Mixing input types\n",
    "\n",
    "Remember that naive Bayes is, in fact, naive - meaning that we assume the features are independent of each other. This means that we can create models that mix inputs by simply multiplying their probabilities. In effect, we could create a model that mixes *Bernoulli*, *multinomial* and *continuous* inputs by creating 3 respective models for each type of input, and then multiplying the output probabilities to achieve a combined model. You could also create a model which takes any input take and applies the correct probability calculation at each step.\n",
    "\n",
    "We don't lose any information about relationships between any two inputs in different models, because naive Bayes never considers them in the first place even when in the same model!\n",
    "\n",
    "### Implementing a mixed model\n",
    "\n",
    "Unforunately scikit-learn doesn't have direct support for mixed input naive bayes. To get around this, we're going to create a model that mixes Bernoulli and Gaussian naive bayes, by first obtaining the probability estimates and them combining them using a second Gaussian model. "
   ]
  },
  {
   "cell_type": "code",
   "execution_count": 250,
   "metadata": {
    "collapsed": false
   },
   "outputs": [
    {
     "name": "stdout",
     "output_type": "stream",
     "text": [
      "0.92\n"
     ]
    }
   ],
   "source": [
    "# create some data and split 10 features for bernoulli and 10 for gaussian\n",
    "from sklearn.datasets import make_classification\n",
    "X, y = make_classification(n_samples=100, n_classes=2)\n",
    "X1 = X[:,0:10]\n",
    "X2 = X[:,10:20]\n",
    "\n",
    "# fit bernoulli \n",
    "from sklearn.naive_bayes import BernoulliNB\n",
    "modelb = BernoulliNB(binarize=0.0)\n",
    "modelb.fit(X1, y)\n",
    "\n",
    "# fit gaussian\n",
    "from sklearn.naive_bayes import GaussianNB\n",
    "modelg = GaussianNB()\n",
    "modelg.fit(X2, y)\n",
    "\n",
    "# combine both of our models\n",
    "from sklearn.ensemble import VotingClassifier\n",
    "models = VotingClassifier(estimators=[('bnb', modelb), ('gnb', modelg)], voting='soft')\n",
    "models.fit(X,y)\n",
    "predictions = models.predict(X)\n",
    "\n",
    "# calculate AUC, should be much better than our previous dummy classifiers!\n",
    "from sklearn import metrics\n",
    "FPR, TPR, thresholds = metrics.roc_curve(y, predictions, drop_intermediate=False)\n",
    "print(metrics.auc(FPR,TPR))"
   ]
  },
  {
   "cell_type": "markdown",
   "metadata": {},
   "source": [
    "## Multiple classes\n",
    "\n",
    "Just like naive Bayes could be expanded for considering inputs with multiple values, the same expansion works for multiple classes. If instead of default, we have default status (being one of never in default, currently in default and previously in default), we simply apply all of the calculations above for a third class. To make a prediction, again we take the maximum probability of the three classes. You can test this yourself by reusing any of the above code with `make_classification(n_classes=2)` modified to the number of classes you have. (Note: AUC metric only applies to binary class classification, so attempting to calculate this will fail).\n",
    "\n",
    "## Naive Bayes feature selection\n",
    "\n",
    "We now know that Naive Bayes will work with any combination of binary, categorical or continuous inputs, but how do we know which inputs to use and how many?\n",
    "\n",
    "To find out, we can divide our dataset into 2 subsets:\n",
    "\n",
    "* one for training our model containing 80% of our data (`X_train` and `y_train`), and\n",
    "* one for testing performance containing the remaining 20% (`X_test` and `y_test`)\n",
    "\n",
    "It is important that the model is constructed on only the training data, so that the test data will provide a realistic demonstration of the performance of the model (that is, how the model would perform on new data to which we don't know the output). The benefit of splitting our data like this means we can quantify the test performance (using the measures described in Chapter 1.01, when we discussed Dummy Classifiers).\n",
    "\n",
    "Now we're going to iteratively (in cycles) build models, with each iteration (cycle) introducing one new feature. We'll then measure the performance of each interaction and observe what happens as the number of features grows, and plot the results."
   ]
  },
  {
   "cell_type": "code",
   "execution_count": 244,
   "metadata": {
    "collapsed": false
   },
   "outputs": [
    {
     "data": {
      "image/png": "[encoded data removed]",
      "text/plain": [
       "<matplotlib.figure.Figure at 0x10fb28438>"
      ]
     },
     "metadata": {},
     "output_type": "display_data"
    }
   ],
   "source": [
    "from sklearn.datasets import make_classification\n",
    "from sklearn.model_selection import train_test_split\n",
    "from sklearn.naive_bayes import BernoulliNB\n",
    "from sklearn import metrics\n",
    "import numpy as np\n",
    "\n",
    "# create some data and split into training and test sets\n",
    "X, y = make_classification(n_samples=1000, n_classes=2, n_features=500, n_informative=250)\n",
    "X_train, X_test, y_train, y_test = train_test_split(X, y, test_size=0.2, random_state=42)\n",
    "\n",
    "# lists to capture results for plotting below\n",
    "px = []\n",
    "py = []\n",
    "\n",
    "for n in range(1,500):\n",
    "   \n",
    "    # pick n features at random and get corresponding inputs\n",
    "    sample_features = np.random.randint(500, size=n)\n",
    "    X_train_sample = X_train[:,sample_features]\n",
    "    X_test_sample = X_test[:,sample_features]\n",
    "\n",
    "    # fit bernoulli and make predictions\n",
    "    modelb = BernoulliNB(binarize=0.0)\n",
    "    modelb.fit(X_train_sample, y_train)\n",
    "    predictions = modelb.predict_proba(X_test_sample)\n",
    "\n",
    "    # calculate AUC, should be much better than our previous dummy classifiers!\n",
    "    FPR, TPR, thresholds = metrics.roc_curve(y_test, predictions[:,1])\n",
    "    px.append(n)\n",
    "    py.append(metrics.auc(FPR, TPR))\n",
    "\n",
    "# plot our data \n",
    "%matplotlib inline\n",
    "import matplotlib.pyplot as plt\n",
    "\n",
    "plt.plot(px, py)\n",
    "plt.title('Naive Bayes with increasing features')\n",
    "plt.xlabel('Number of Features')\n",
    "plt.ylabel('AUC');"
   ]
  },
  {
   "cell_type": "markdown",
   "metadata": {},
   "source": [
    "We can see that even as large amounts of features are added, in this test the performance of Naive Bayes only increases slowly.\n",
    "\n",
    "## What next?\n",
    "\n",
    "As we discovered, naive Bayes is naive - it won't discover any relationships between inputs to improve the model, as it assumed each input to be indepedent of each other.\n",
    "\n",
    "Now that we understand how inputs can impact probability indepedently, we're going to explore a model that can, in a simple way, start taking advantage of relationships in those inputs."
   ]
  },
  {
   "cell_type": "markdown",
   "metadata": {},
   "source": [
    "---\n",
    "\n",
    "[Table of Contents](00.00-Learning-ML.ipynb#Table-of-Contents) &bull; [&larr; *Chapter 2.01 - Dummy Classifiers*](02.01-Dummy-Classifiers.ipynb) &bull; [*Chapter 2.03 - k-Nearest Neighbours* &rarr;](02.03-k-Nearest-Neighbours.ipynb)"
   ]
  }
 ],
 "metadata": {
  "anaconda-cloud": {},
  "kernelspec": {
   "display_name": "Python [default]",
   "language": "python",
   "name": "python3"
  },
  "language_info": {
   "codemirror_mode": {
    "name": "ipython",
    "version": 3
   },
   "file_extension": ".py",
   "mimetype": "text/x-python",
   "name": "python",
   "nbconvert_exporter": "python",
   "pygments_lexer": "ipython3",
   "version": "3.5.2"
  }
 },
 "nbformat": 4,
 "nbformat_minor": 1
}
