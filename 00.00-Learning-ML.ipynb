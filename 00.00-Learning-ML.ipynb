{
 "cells": [
  {
   "cell_type": "markdown",
   "metadata": {},
   "source": [
    "# Learning Machine Learning\n",
    "\n",
    "A practical guide to understanding and applying machine learning algorithms in the quest to become a 🦄.\n",
    "\n",
    "by **[@blairhudson](http://twitter.com/blairhudson)**"
   ]
  },
  {
   "cell_type": "markdown",
   "metadata": {},
   "source": [
    "## Table of Contents\n",
    "\n",
    "### [1. Introduction](01.00-Introduction.ipynb)\n",
    "* [1.01 WTF](01.01-WTF.ipynb)\n",
    "* [1.02 Getting Started](01.02-Getting-Started.ipynb)\n",
    "\n",
    "### [2. Classification](02.00-Classification.ipynb)\n",
    "\n",
    "### [3. Regression](03.00-Regression.ipynb)"
   ]
  },
  {
   "cell_type": "markdown",
   "metadata": {
    "collapsed": true
   },
   "source": [
    "This work is licensed under [CC BY-NC-ND 3.0 AU](https://creativecommons.org/licenses/by-nc-nd/3.0/au/)."
   ]
  }
 ],
 "metadata": {
  "anaconda-cloud": {},
  "kernelspec": {
   "display_name": "Python [default]",
   "language": "python",
   "name": "python3"
  },
  "language_info": {
   "codemirror_mode": {
    "name": "ipython",
    "version": 3
   },
   "file_extension": ".py",
   "mimetype": "text/x-python",
   "name": "python",
   "nbconvert_exporter": "python",
   "pygments_lexer": "ipython3",
   "version": "3.5.2"
  }
 },
 "nbformat": 4,
 "nbformat_minor": 1
}
