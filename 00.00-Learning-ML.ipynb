{
 "cells": [
  {
   "cell_type": "markdown",
   "metadata": {},
   "source": [
    "[<img src=\"learningml.png\" alt=\"Learning ML\" width=\"400px\" />](http://learning.ml)\n",
    "\n",
    "\n",
    "# Learning ML\n",
    "\n",
    "A practical guide to understanding and applying machine learning algorithms in the quest to become a 🦄.\n",
    "\n",
    "by **[@blairhudson](http://twitter.com/blairhudson)**\n",
    "\n",
    "*This book is a work in progress. Follow [@Learning_ML](http://twitter.com/Learning_ML) for the latest updates! For detailed changes, see [commits](https://github.com/blairhudson/learningml/commits/master) on GitHub.*\n"
   ]
  },
  {
   "cell_type": "markdown",
   "metadata": {},
   "source": [
    "## Table of Contents\n",
    "---\n",
    "\n",
    "### [1. Introduction](01.00-Introduction.ipynb)\n",
    "* [1.01 WTF](01.01-WTF.ipynb)\n",
    "* [1.02 Getting Started](01.02-Getting-Started.ipynb)\n",
    "\n",
    "### [2. Classification](02.00-Classification.ipynb)\n",
    "* [2.01 Dummy Classifiers](02.01-Dummy-Classifiers.ipynb)\n",
    "* [2.02 Naive Bayes](02.02-Naive-Bayes.ipynb)\n",
    "* [2.03 k-Nearest Neighbours](02.03-k-Nearest-Neighbours.ipynb)\n",
    "* [2.04 Decision Trees](02.04-Decision-Trees.ipynb)\n",
    "* [2.05 Ensembles](02.05-Ensembles.ipynb)\n",
    "* [2.06 Logistic Regression](02.06-Logistic-Regression.ipynb)\n",
    "* [2.07 Support Vector Machines](02.07-Support-Vector-Machines.ipynb)\n",
    "* [2.08 More Ensembles](02.08-More-Ensembles.ipynb)\n",
    "* Elastic Net\n",
    "* Stochastic Gradient Descent\n",
    "* RuleFit\n",
    "* Neural Networks\n",
    "* Deep Learning\n",
    "\n",
    "### [3. Regression](03.00-Regression.ipynb)\n",
    "\n",
    "### [4. Data Preparation](04.00-Data-Preparation.ipynb)\n",
    "\n",
    "### [Appendix](99.00-Appendix.ipynb)\n",
    "* [a. Glossary](99.01-Glossary.ipynb)\n",
    "* [b. Acknowledgements](99.02-Acknowledgements.ipynb)\n",
    "* [c. Resources](99.03-Resources.ipynb)"
   ]
  },
  {
   "cell_type": "markdown",
   "metadata": {
    "collapsed": true
   },
   "source": [
    "---\n",
    "\n",
    "[learning.ml](http://learning.ml) / This work is licensed under [CC BY-NC-ND 3.0 AU](https://creativecommons.org/licenses/by-nc-nd/3.0/au/)."
   ]
  }
 ],
 "metadata": {
  "anaconda-cloud": {},
  "kernelspec": {
   "display_name": "Python [default]",
   "language": "python",
   "name": "python3"
  },
  "language_info": {
   "codemirror_mode": {
    "name": "ipython",
    "version": 3
   },
   "file_extension": ".py",
   "mimetype": "text/x-python",
   "name": "python",
   "nbconvert_exporter": "python",
   "pygments_lexer": "ipython3",
   "version": "3.5.2"
  }
 },
 "nbformat": 4,
 "nbformat_minor": 1
}
