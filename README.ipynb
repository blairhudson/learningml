{
 "cells": [
  {
   "cell_type": "markdown",
   "metadata": {},
   "source": [
    "# Learning Machine Learning\n",
    "\n",
    "A practical guide to understanding and applying machine learning algorithms in the quest to become a 🦄."
   ]
  },
  {
   "cell_type": "markdown",
   "metadata": {},
   "source": [
    "## Table of Contents\n",
    "\n",
    "### [1. Introduction](http://nbviewer.jupyter.org/github/blairhudson/learningml/blob/master/01.00-Introduction.ipynb)\n",
    "### [2. Classification](http://nbviewer.jupyter.org/github/blairhudson/learningml/blob/master/02.00-Classification.ipynb)\n",
    "### [3. Regression](http://nbviewer.jupyter.org/github/blairhudson/learningml/blob/master/03.00-Regression.ipynb)"
   ]
  }
 ],
 "metadata": {
  "anaconda-cloud": {},
  "kernelspec": {
   "display_name": "Python [default]",
   "language": "python",
   "name": "python3"
  },
  "language_info": {
   "codemirror_mode": {
    "name": "ipython",
    "version": 3
   },
   "file_extension": ".py",
   "mimetype": "text/x-python",
   "name": "python",
   "nbconvert_exporter": "python",
   "pygments_lexer": "ipython3",
   "version": "3.5.2"
  }
 },
 "nbformat": 4,
 "nbformat_minor": 1
}
