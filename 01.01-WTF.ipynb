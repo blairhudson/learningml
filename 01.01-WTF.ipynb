{
 "cells": [
  {
   "cell_type": "markdown",
   "metadata": {},
   "source": [
    "[[Table of Contents](00.00-Learning-ML.ipynb#Table-of-Contents)] [[Previous](01.00-Introduction.ipynb)] [[Next](01.02-Getting-Started.ipynb)]\n",
    "\n",
    "# Chapter 1.01 - WTF\n",
    "\n",
    "(If this doesn't apply to you, feel free to skip ahead to the next chapter. If you're unsure at all or know it definitely does, read on...)\n",
    "\n",
    "Machine Learning: (...)\n",
    "\n",
    "Model: (...)\n",
    "\n",
    "Supervised learning: (...)\n",
    "\n",
    "Unsupervised learning: (...)\n",
    "\n",
    "Observation: (...)\n",
    "\n",
    "Label: (...)\n",
    "\n",
    "Classification: (...)\n",
    "\n",
    "Regression: (...)\n",
    "\n",
    "Prediction: (...)\n",
    "\n",
    "Structure: (...)"
   ]
  },
  {
   "cell_type": "code",
   "execution_count": null,
   "metadata": {
    "collapsed": true
   },
   "outputs": [],
   "source": []
  }
 ],
 "metadata": {
  "anaconda-cloud": {},
  "kernelspec": {
   "display_name": "Python [default]",
   "language": "python",
   "name": "python3"
  },
  "language_info": {
   "codemirror_mode": {
    "name": "ipython",
    "version": 3
   },
   "file_extension": ".py",
   "mimetype": "text/x-python",
   "name": "python",
   "nbconvert_exporter": "python",
   "pygments_lexer": "ipython3",
   "version": "3.5.2"
  }
 },
 "nbformat": 4,
 "nbformat_minor": 1
}
