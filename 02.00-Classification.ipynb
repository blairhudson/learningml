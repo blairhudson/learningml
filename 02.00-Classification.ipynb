{
 "cells": [
  {
   "cell_type": "markdown",
   "metadata": {},
   "source": [
    "[Table of Contents](00.00-Learning-ML.ipynb#Table-of-Contents) &bull; [&larr; *Chapter 1 - Introduction*](01.00-Introduction.ipynb) &bull; [*Chapter 2.01 - Starting Simple* &rarr;](02.01-Starting-Simple.ipynb)\n",
    "\n",
    "---\n",
    "\n",
    "# Chapter 2 - Classification\n",
    "\n",
    "## Introduction to Classification\n",
    "\n",
    "As a supervised method, classification is the process of predicting a discrete class of an obversation. Classes can be binary (having only two values) or multi-class (having more than two values).\n",
    "\n",
    "Typically binary classes will be represented as 1 and 0, where the digits correspond to True and False, Yes and No, On and Off, Cat or Dog and so on.\n",
    "\n",
    "The model constructed for this process is called a *classifier*. As we will explore, a classifier can be constructed in many different ways - with some methods more suitable in certain scenarios than others. We can compare the performance of classifiers with a few different metrics that indicate different performance measures of the model - such as how accurate it is.\n",
    "\n",
    "*Scoring* is the process of using a classifier on a set of obversations to output a prediction. When used for scoring, a classifier typically outputs a probability of the positive class occuring (i.e. probability of Yes, True or On) which provides us additional information about how we should use that score.\n",
    "\n",
    "### Example\n",
    "\n",
    "Banks want to make the best credit decisions possible when approving loans for borrowers - to reduce the risk of losses from the borrower failing to repay their loan. To provide additional information to the credit decisioning process, a classifier is built to predict the likelihood of default of the borrower and loan being assessed.\n",
    "\n",
    "For this example, we aren't concerned so much about the process of building the model (that will come soon!).\n",
    "\n",
    "Once a suitably performing model has been constructed, the data of new loan applications can be submitted for scoring, and the classifier will output a positive real-valued number between 0 and 1, such as:\n",
    "\n",
    "* 0.99 - almost certain\n",
    "* 0.75 - quite likely\n",
    "* 0.50 - somewhat likely\n",
    "* 0.25 - unlikely\n",
    "* 0.01 - very unlikely\n",
    "\n",
    "With this additional information, the bank can better understand their credit risk when making lending decisions - potentially declining higher-risk loans and providing lower interest rates to lower-risk loans.\n",
    "\n",
    "---\n",
    "\n",
    "[Table of Contents](00.00-Learning-ML.ipynb#Table-of-Contents) &bull; [&larr; *Chapter 1 - Introduction*](01.00-Introduction.ipynb) &bull; [*Chapter 2.01 - Starting Simple* &rarr;](02.01-Starting-Simple.ipynb)"
   ]
  },
  {
   "cell_type": "code",
   "execution_count": null,
   "metadata": {
    "collapsed": true
   },
   "outputs": [],
   "source": []
  }
 ],
 "metadata": {
  "anaconda-cloud": {},
  "kernelspec": {
   "display_name": "Python [default]",
   "language": "python",
   "name": "python3"
  },
  "language_info": {
   "codemirror_mode": {
    "name": "ipython",
    "version": 3
   },
   "file_extension": ".py",
   "mimetype": "text/x-python",
   "name": "python",
   "nbconvert_exporter": "python",
   "pygments_lexer": "ipython3",
   "version": "3.5.2"
  }
 },
 "nbformat": 4,
 "nbformat_minor": 1
}
